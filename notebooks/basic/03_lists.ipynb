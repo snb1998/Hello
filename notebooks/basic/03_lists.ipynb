{
  "cells": [
    {
      "cell_type": "markdown",
      "metadata": {
        "id": "tjlkFNAg9cIK"
      },
      "source": [
        "# [Lists](https://docs.python.org/3/library/stdtypes.html#lists)\n",
        "\n",
        "- Lists are used to store multiple items in a single variable\n",
        "        `fruit_list = [\"apple\", \"banana\", \"cherry\"]`\n",
        "- Lists are orders, changeable, and allow duplicate values\n",
        "- List items are indexed, the first item has index [0], the second item index [1] etc.\n",
        "- List items can be of any data type\n"
      ]
    },
    {
      "cell_type": "code",
      "execution_count": 1,
      "metadata": {
        "colab": {
          "base_uri": "https://localhost:8080/"
        },
        "id": "Qo3Ms9kJ9cIM",
        "outputId": "c422ac32-f03f-40d2-9766-525298a5c93f"
      },
      "outputs": [
        {
          "output_type": "stream",
          "name": "stdout",
          "text": [
            "empty list: [], type: <class 'list'>\n"
          ]
        }
      ],
      "source": [
        "my_empty_list = []\n",
        "print('empty list: {}, type: {}'.format(my_empty_list, type(my_empty_list)))"
      ]
    },
    {
      "cell_type": "code",
      "execution_count": 2,
      "metadata": {
        "colab": {
          "base_uri": "https://localhost:8080/"
        },
        "id": "KtPhrjwy9cIN",
        "outputId": "745f0911-807a-4140-d8ec-25cfa0b1e145"
      },
      "outputs": [
        {
          "output_type": "stream",
          "name": "stdout",
          "text": [
            "lengths: 4 and 6\n"
          ]
        }
      ],
      "source": [
        "list_of_ints = [1, 2, 6, 7]\n",
        "list_of_misc = [0.2, 5, 'Python', 'is', 'still fun', '!']\n",
        "print('lengths: {} and {}'.format(len(list_of_ints), len(list_of_misc)))"
      ]
    },
    {
      "cell_type": "markdown",
      "metadata": {
        "id": "GUOIvKiu9cIN"
      },
      "source": [
        "## Accessing values\n",
        "\n",
        "List operations\n",
        "- List syntax `L = [value1, value2, ..., valuek]`\n",
        "- List indexing L[index], L[-index]   #In the last one, we are copying from the other end.\n",
        "- List slices L[from:to], L[from:to:step] #from is included, but to is not included\n",
        "- Creating a copy of a list L[:]\n",
        "- List concatenation (creates new list) X + Y  #By multiplying the lists, it can become two lists.\n",
        "- Length of list len(L)\n",
        "- Check if element is in list: e in L\n",
        "- Check if element is not in list: e not in L\n",
        "- Reverse list L[::-1]\n"
      ]
    },
    {
      "cell_type": "code",
      "execution_count": 3,
      "metadata": {
        "colab": {
          "base_uri": "https://localhost:8080/"
        },
        "id": "pmKTs5D69cIO",
        "outputId": "28167892-28f2-42aa-c378-5726709284e3"
      },
      "outputs": [
        {
          "output_type": "stream",
          "name": "stdout",
          "text": [
            "Python\n",
            "cool\n",
            "cool\n"
          ]
        }
      ],
      "source": [
        "my_list = ['Python', 'is', 'still', 'cool']\n",
        "print(my_list[0])\n",
        "print(my_list[3])\n",
        "print(my_list[-1])"
      ]
    },
    {
      "cell_type": "code",
      "execution_count": 4,
      "metadata": {
        "colab": {
          "base_uri": "https://localhost:8080/"
        },
        "id": "K-T0Uf-O9cIO",
        "outputId": "e20e0cb8-6c70-42a3-fa2d-588d5b712361"
      },
      "outputs": [
        {
          "output_type": "stream",
          "name": "stdout",
          "text": [
            "first coordinate: [12.0, 13.3]\n",
            "second element of first coordinate: 13.3\n"
          ]
        }
      ],
      "source": [
        "coordinates = [[12.0, 13.3], [0.6, 18.0], [88.0, 1.1]]  # two dimensional\n",
        "print('first coordinate: {}'.format(coordinates[0]))\n",
        "print('second element of first coordinate: {}'.format(coordinates[0][1]))"
      ]
    },
    {
      "cell_type": "markdown",
      "metadata": {
        "id": "NgmhyXax9cIO"
      },
      "source": [
        "## Updating values"
      ]
    },
    {
      "cell_type": "code",
      "execution_count": 5,
      "metadata": {
        "colab": {
          "base_uri": "https://localhost:8080/"
        },
        "id": "G526nB9z9cIO",
        "outputId": "992ac3f8-8a64-4826-9daf-040654553f47"
      },
      "outputs": [
        {
          "output_type": "stream",
          "name": "stdout",
          "text": [
            "0\n",
            "99\n",
            "[1, 2, 3, 4, 5]\n"
          ]
        }
      ],
      "source": [
        "my_list = [0, 1, 2, 3, 4, 5]\n",
        "print(my_list[0])\n",
        "my_list[0] = 99\n",
        "print(my_list[0])\n",
        "\n",
        "# remove first value\n",
        "del my_list[0]\n",
        "print(my_list)"
      ]
    },
    {
      "cell_type": "markdown",
      "metadata": {
        "id": "qS5mEh2U9cIP"
      },
      "source": [
        "## Checking if certain value is present in list"
      ]
    },
    {
      "cell_type": "code",
      "execution_count": null,
      "metadata": {
        "id": "WGpkqi2o9cIP"
      },
      "outputs": [],
      "source": [
        "languages = ['Java', 'C++', 'Go', 'Python', 'JavaScript']\n",
        "if 'Python' in languages:\n",
        "    print('Python is there!')"
      ]
    },
    {
      "cell_type": "code",
      "execution_count": null,
      "metadata": {
        "id": "HxTXcOgE9cIP"
      },
      "outputs": [],
      "source": [
        "if 6 not in [1, 2, 3, 7]:\n",
        "    print('number 6 is not present')"
      ]
    },
    {
      "cell_type": "markdown",
      "metadata": {
        "id": "HYgtQntV9cIQ"
      },
      "source": [
        "## List are mutable"
      ]
    },
    {
      "cell_type": "code",
      "execution_count": null,
      "metadata": {
        "id": "wPy91Prx9cIQ"
      },
      "outputs": [],
      "source": [
        "original = [1, 2, 3]\n",
        "modified = original\n",
        "modified[0] = 99\n",
        "print('original: {}, modified: {}'.format(original, modified))"
      ]
    },
    {
      "cell_type": "markdown",
      "metadata": {
        "id": "TaIdVtix9cIQ"
      },
      "source": [
        "You can get around this by creating new `list`:"
      ]
    },
    {
      "cell_type": "code",
      "execution_count": null,
      "metadata": {
        "id": "3oqdBWoA9cIQ"
      },
      "outputs": [],
      "source": [
        "original = [1, 2, 3]\n",
        "modified = list(original)  # Note list()\n",
        "# Alternatively, you can use copy method\n",
        "# modified = original.copy()\n",
        "modified[0] = 99\n",
        "print('original: {}, modified: {}'.format(original, modified))"
      ]
    },
    {
      "cell_type": "markdown",
      "metadata": {
        "id": "tn2HnFLD9cIQ"
      },
      "source": [
        "## list methods"
      ]
    },
    {
      "cell_type": "markdown",
      "metadata": {
        "id": "_qc6agXF9cIQ"
      },
      "source": [
        "#### `list.append()`"
      ]
    },
    {
      "cell_type": "code",
      "execution_count": null,
      "metadata": {
        "id": "BkFlsc_s9cIQ"
      },
      "outputs": [],
      "source": [
        "my_list = [1]\n",
        "my_list.append('ham')\n",
        "print(my_list)"
      ]
    },
    {
      "cell_type": "markdown",
      "metadata": {
        "id": "31GaI-Gk9cIQ"
      },
      "source": [
        "#### `list.remove()`"
      ]
    },
    {
      "cell_type": "code",
      "execution_count": null,
      "metadata": {
        "id": "jCVkHZNk9cIR"
      },
      "outputs": [],
      "source": [
        "my_list = ['Python', 'is', 'sometimes', 'fun']\n",
        "my_list.remove('sometimes')\n",
        "print(my_list)\n",
        "\n",
        "# If you are not sure that the value is in list, better to check first:\n",
        "if 'Java' in my_list:\n",
        "    my_list.remove('Java')\n",
        "else:\n",
        "    print('Java is not part of this story.')"
      ]
    },
    {
      "cell_type": "markdown",
      "metadata": {
        "id": "1R4XQnZr9cIR"
      },
      "source": [
        "#### `list.sort()`"
      ]
    },
    {
      "cell_type": "code",
      "execution_count": null,
      "metadata": {
        "id": "_Tvk3Wce9cIR"
      },
      "outputs": [],
      "source": [
        "numbers = [8, 1, 6, 5, 10]\n",
        "numbers.sort()\n",
        "print('numbers: {}'.format(numbers))\n",
        "\n",
        "numbers.sort(reverse=True)\n",
        "print('numbers reversed: {}'.format(numbers))\n",
        "\n",
        "words = ['this', 'is', 'a', 'list', 'of', 'words']\n",
        "words.sort()\n",
        "print('words: {}'.format(words))"
      ]
    },
    {
      "cell_type": "code",
      "execution_count": null,
      "metadata": {
        "id": "n0mlUpQf9cIR"
      },
      "outputs": [],
      "source": [
        "help(list.sort)"
      ]
    },
    {
      "cell_type": "markdown",
      "metadata": {
        "id": "NFcVrfQ39cIR"
      },
      "source": [
        "#### `sorted(list)`\n",
        "While `list.sort()` sorts the list in-place, `sorted(list)` returns a new list and leaves the original untouched:"
      ]
    },
    {
      "cell_type": "code",
      "execution_count": null,
      "metadata": {
        "id": "qclRS5OE9cIR"
      },
      "outputs": [],
      "source": [
        "numbers = [8, 1, 6, 5, 10]\n",
        "sorted_numbers = sorted(numbers)\n",
        "print('numbers: {}, sorted: {}'.format(numbers, sorted_numbers))"
      ]
    },
    {
      "cell_type": "markdown",
      "metadata": {
        "id": "vdeH6FZd9cIR"
      },
      "source": [
        "#### `list.extend()`"
      ]
    },
    {
      "cell_type": "code",
      "execution_count": null,
      "metadata": {
        "id": "IPxXcG4x9cIR"
      },
      "outputs": [],
      "source": [
        "first_list = ['beef', 'ham']\n",
        "second_list = ['potatoes',1 ,3]\n",
        "first_list.extend(second_list)\n",
        "print('first: {}, second: {}'.format(first_list, second_list))"
      ]
    },
    {
      "cell_type": "markdown",
      "metadata": {
        "id": "9ZB6OB_F9cIS"
      },
      "source": [
        "Alternatively you can also extend lists by summing them:"
      ]
    },
    {
      "cell_type": "code",
      "execution_count": null,
      "metadata": {
        "id": "zOR6RuDm9cIS"
      },
      "outputs": [],
      "source": [
        "first = [1, 2, 3]\n",
        "second = [4, 5]\n",
        "first += second  # same as: first = first + second\n",
        "print('first: {}'.format(first))\n",
        "\n",
        "# If you need a new list\n",
        "summed = first + second\n",
        "print('summed: {}'.format(summed))"
      ]
    },
    {
      "cell_type": "markdown",
      "metadata": {
        "id": "F3VvJhJD9cIS"
      },
      "source": [
        "#### `list.reverse()`"
      ]
    },
    {
      "cell_type": "code",
      "execution_count": null,
      "metadata": {
        "id": "d7S_douq9cIS"
      },
      "outputs": [],
      "source": [
        "my_list = ['a', 'b', 'ham']\n",
        "my_list.reverse()\n",
        "print(my_list)"
      ]
    },
    {
      "cell_type": "markdown",
      "metadata": {
        "id": "ZCs3VV8y9cIS"
      },
      "source": [
        "# List comprehension (cool stuff)"
      ]
    },
    {
      "cell_type": "markdown",
      "metadata": {
        "id": "U3i-WsRl9cIS"
      },
      "source": [
        "General\n",
        "`[expression for variable in sequence]`\n",
        "    returns a list, where expression is computed for each element in sequence assigned to variable\n",
        "\n",
        "List comprehensions can have nested for-loops\n",
        "`[expression for v1 in s1 for v2 in s2 for v3 in s3]`\n",
        "\n",
        "Can select a subset of the elements by adding an if-condition\n",
        "`[expression for v1 in s1 if condition]`\n"
      ]
    },
    {
      "cell_type": "markdown",
      "metadata": {
        "id": "TrHOSUJv9cIS"
      },
      "source": [
        "return to [overview](../00_overview.ipynb)"
      ]
    }
  ],
  "metadata": {
    "kernelspec": {
      "display_name": "Python 3 (ipykernel)",
      "language": "python",
      "name": "python3"
    },
    "language_info": {
      "codemirror_mode": {
        "name": "ipython",
        "version": 3
      },
      "file_extension": ".py",
      "mimetype": "text/x-python",
      "name": "python",
      "nbconvert_exporter": "python",
      "pygments_lexer": "ipython3",
      "version": "3.10.12"
    },
    "colab": {
      "provenance": []
    }
  },
  "nbformat": 4,
  "nbformat_minor": 0
}