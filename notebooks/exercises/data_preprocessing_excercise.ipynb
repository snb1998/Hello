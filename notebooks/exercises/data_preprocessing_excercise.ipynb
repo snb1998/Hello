{
  "cells": [
    {
      "cell_type": "markdown",
      "id": "cec43059-d42d-4083-b2f1-7260b85d1bd3",
      "metadata": {
        "id": "cec43059-d42d-4083-b2f1-7260b85d1bd3"
      },
      "source": [
        "#### Exercise 1.1\n",
        "\n",
        "##### Read in the meteorite data from the `Meteorite_Landings.csv` file, rename the `mass (g)` column to `mass`, and drop all the latitude and longitude columns. Sort the result by mass in descending order."
      ]
    },
    {
      "cell_type": "code",
      "execution_count": 3,
      "id": "45c600b8-fd95-4dd0-ac75-47af19a4aac0",
      "metadata": {
        "id": "45c600b8-fd95-4dd0-ac75-47af19a4aac0"
      },
      "outputs": [],
      "source": [
        "import pandas as pd\n",
        "\n",
        "df = pd.read_csv('/content/Meteorite_Landings.csv')\n",
        "df = df.rename(columns = {'mass (g)': 'mass'})\n",
        "df = df.drop(columns=['reclat', 'reclong'])"
      ]
    },
    {
      "cell_type": "markdown",
      "source": [
        "pandas is a library for data manipulation and analysis."
      ],
      "metadata": {
        "id": "Tr7EfHb8JXMZ"
      },
      "id": "Tr7EfHb8JXMZ"
    },
    {
      "cell_type": "markdown",
      "source": [
        "The code below is alternative with url:\n"
      ],
      "metadata": {
        "id": "UXMGF06eNNDu"
      },
      "id": "UXMGF06eNNDu"
    },
    {
      "cell_type": "code",
      "source": [
        "import pandas as pd\n",
        "\n",
        "url = \"https://raw.githubusercontent.com/MPBagger/data-science-project/main/notebooks/solutions/data/Meteorite_Landings.csv\"\n",
        "df = pd.read_csv(url)\n",
        "df = df.rename(columns = {'mass (g)': 'mass'})\n",
        "df = df.drop(columns=['reclat', 'reclong'])\n",
        "\n",
        "# Now you can work with the DataFrame 'df'\n",
        "print(df.head())  # Display the first few rows to check raw.githubusercontent.com"
      ],
      "metadata": {
        "id": "Rl6UYzIlNSO3",
        "outputId": "a950a3ba-d834-4473-d329-441369bf951e",
        "colab": {
          "base_uri": "https://localhost:8080/"
        }
      },
      "id": "Rl6UYzIlNSO3",
      "execution_count": null,
      "outputs": [
        {
          "output_type": "stream",
          "name": "stdout",
          "text": [
            "       name   id nametype     recclass  mass (g)  fall  \\\n",
            "0    Aachen    1    Valid           L5      21.0  Fell   \n",
            "1    Aarhus    2    Valid           H6     720.0  Fell   \n",
            "2      Abee    6    Valid          EH4  107000.0  Fell   \n",
            "3  Acapulco   10    Valid  Acapulcoite    1914.0  Fell   \n",
            "4   Achiras  370    Valid           L6     780.0  Fell   \n",
            "\n",
            "                     year    reclat    reclong           GeoLocation  \n",
            "0  01/01/1880 12:00:00 AM  50.77500    6.08333     (50.775, 6.08333)  \n",
            "1  01/01/1951 12:00:00 AM  56.18333   10.23333  (56.18333, 10.23333)  \n",
            "2  01/01/1952 12:00:00 AM  54.21667 -113.00000    (54.21667, -113.0)  \n",
            "3  01/01/1976 12:00:00 AM  16.88333  -99.90000     (16.88333, -99.9)  \n",
            "4  01/01/1902 12:00:00 AM -33.16667  -64.95000   (-33.16667, -64.95)  \n"
          ]
        }
      ]
    },
    {
      "cell_type": "code",
      "source": [
        "print(df.head())  # Shows the first 5 rows\n"
      ],
      "metadata": {
        "id": "xf7199gyMfN5",
        "outputId": "7d986746-c742-4c41-b386-d78dd623aed5",
        "colab": {
          "base_uri": "https://localhost:8080/"
        }
      },
      "id": "xf7199gyMfN5",
      "execution_count": 4,
      "outputs": [
        {
          "output_type": "stream",
          "name": "stdout",
          "text": [
            "       name   id nametype     recclass      mass  fall  \\\n",
            "0    Aachen    1    Valid           L5      21.0  Fell   \n",
            "1    Aarhus    2    Valid           H6     720.0  Fell   \n",
            "2      Abee    6    Valid          EH4  107000.0  Fell   \n",
            "3  Acapulco   10    Valid  Acapulcoite    1914.0  Fell   \n",
            "4   Achiras  370    Valid           L6     780.0  Fell   \n",
            "\n",
            "                     year           GeoLocation  \n",
            "0  01/01/1880 12:00:00 AM     (50.775, 6.08333)  \n",
            "1  01/01/1951 12:00:00 AM  (56.18333, 10.23333)  \n",
            "2  01/01/1952 12:00:00 AM    (54.21667, -113.0)  \n",
            "3  01/01/1976 12:00:00 AM     (16.88333, -99.9)  \n",
            "4  01/01/1902 12:00:00 AM   (-33.16667, -64.95)  \n"
          ]
        }
      ]
    },
    {
      "cell_type": "markdown",
      "source": [
        "This gives a quick preview of the dataset.\n"
      ],
      "metadata": {
        "id": "BL0g9ENAM3KF"
      },
      "id": "BL0g9ENAM3KF"
    },
    {
      "cell_type": "code",
      "source": [
        "print(df.info())\n"
      ],
      "metadata": {
        "id": "0fQlQJkeMpwz",
        "outputId": "1432c79a-65cd-4525-a05f-54fe0042a149",
        "colab": {
          "base_uri": "https://localhost:8080/"
        }
      },
      "id": "0fQlQJkeMpwz",
      "execution_count": 5,
      "outputs": [
        {
          "output_type": "stream",
          "name": "stdout",
          "text": [
            "<class 'pandas.core.frame.DataFrame'>\n",
            "RangeIndex: 45716 entries, 0 to 45715\n",
            "Data columns (total 8 columns):\n",
            " #   Column       Non-Null Count  Dtype  \n",
            "---  ------       --------------  -----  \n",
            " 0   name         45716 non-null  object \n",
            " 1   id           45716 non-null  int64  \n",
            " 2   nametype     45716 non-null  object \n",
            " 3   recclass     45716 non-null  object \n",
            " 4   mass         45585 non-null  float64\n",
            " 5   fall         45716 non-null  object \n",
            " 6   year         45425 non-null  object \n",
            " 7   GeoLocation  38401 non-null  object \n",
            "dtypes: float64(1), int64(1), object(6)\n",
            "memory usage: 2.8+ MB\n",
            "None\n"
          ]
        }
      ]
    },
    {
      "cell_type": "markdown",
      "source": [
        "Displays column names, data types, and the number of non-null values.\n"
      ],
      "metadata": {
        "id": "66woYI0cM7eW"
      },
      "id": "66woYI0cM7eW"
    },
    {
      "cell_type": "code",
      "source": [
        "print(df.isnull().sum())\n"
      ],
      "metadata": {
        "id": "m3XKvbATMt6b",
        "outputId": "1960f28d-97e5-441a-f276-b3024f885f26",
        "colab": {
          "base_uri": "https://localhost:8080/"
        }
      },
      "id": "m3XKvbATMt6b",
      "execution_count": 6,
      "outputs": [
        {
          "output_type": "stream",
          "name": "stdout",
          "text": [
            "name              0\n",
            "id                0\n",
            "nametype          0\n",
            "recclass          0\n",
            "mass            131\n",
            "fall              0\n",
            "year            291\n",
            "GeoLocation    7315\n",
            "dtype: int64\n"
          ]
        }
      ]
    },
    {
      "cell_type": "markdown",
      "source": [
        "Check for Missing Values"
      ],
      "metadata": {
        "id": "-Op3KvTrM-FZ"
      },
      "id": "-Op3KvTrM-FZ"
    },
    {
      "cell_type": "code",
      "execution_count": 7,
      "id": "a297b594-b654-4fd1-b560-01b44e918c1e",
      "metadata": {
        "id": "a297b594-b654-4fd1-b560-01b44e918c1e"
      },
      "outputs": [],
      "source": [
        "assert type(df) == pd.core.frame.DataFrame\n",
        "assert 'mass' in df.columns\n",
        "assert 'reclong' not in df.columns\n",
        "assert 'reclat' not in df.columns"
      ]
    },
    {
      "cell_type": "markdown",
      "source": [
        "Exercise-1.2\n",
        "\n",
        "Using the meteorite data from the Meteorite_Landings.csv file, update the year column to only contain the year, convert it to a numeric data type, and create a new column indicating whether the meteorite was observed falling before 1970. Set the index to the id column and extract all the rows with IDs between 10,036 and 10,040 (inclusive) with loc[].\n",
        "\n",
        "Hint 1: Use year.str.slice() to grab a substring.\n",
        "\n",
        "Hint 2: Make sure to sort the index before using loc[] to select the range.\n",
        "\n",
        "Bonus: There's a data entry error in the year column. Can you find it? (Don't spend too much time on this.)"
      ],
      "metadata": {
        "id": "HtlN0DczN7tf"
      },
      "id": "HtlN0DczN7tf"
    },
    {
      "cell_type": "code",
      "execution_count": 8,
      "id": "9a28d9c5-6be4-4213-ac13-03b6253b1736",
      "metadata": {
        "colab": {
          "base_uri": "https://localhost:8080/"
        },
        "id": "9a28d9c5-6be4-4213-ac13-03b6253b1736",
        "outputId": "0119d997-cb6d-4b25-a172-9b75d6a8c4bd"
      },
      "outputs": [
        {
          "output_type": "stream",
          "name": "stdout",
          "text": [
            "       name   id nametype     recclass  mass (g)  fall  \\\n",
            "0    Aachen    1    Valid           L5      21.0  Fell   \n",
            "1    Aarhus    2    Valid           H6     720.0  Fell   \n",
            "2      Abee    6    Valid          EH4  107000.0  Fell   \n",
            "3  Acapulco   10    Valid  Acapulcoite    1914.0  Fell   \n",
            "4   Achiras  370    Valid           L6     780.0  Fell   \n",
            "\n",
            "                     year    reclat    reclong           GeoLocation  \n",
            "0  01/01/1880 12:00:00 AM  50.77500    6.08333     (50.775, 6.08333)  \n",
            "1  01/01/1951 12:00:00 AM  56.18333   10.23333  (56.18333, 10.23333)  \n",
            "2  01/01/1952 12:00:00 AM  54.21667 -113.00000    (54.21667, -113.0)  \n",
            "3  01/01/1976 12:00:00 AM  16.88333  -99.90000     (16.88333, -99.9)  \n",
            "4  01/01/1902 12:00:00 AM -33.16667  -64.95000   (-33.16667, -64.95)  \n"
          ]
        }
      ],
      "source": [
        "url = \"https://raw.githubusercontent.com/MPBagger/data-science-project/main/notebooks/solutions/data/Meteorite_Landings.csv\"\n",
        "df = pd.read_csv(url)\n",
        "print(df.head())"
      ]
    },
    {
      "cell_type": "code",
      "source": [
        "df['year'] = df['year'].str.slice(start=6, stop=10)\n",
        "df['year'] = pd.to_numeric(df['year'])\n",
        "df['before_1970'] = df['year'] < 1970  # Boolean column (True if before 1970, False otherwise)\n",
        "df.set_index('id', inplace = True) #choosing index\n",
        "df = df.sort_index() #asc order\n"
      ],
      "metadata": {
        "id": "EZy2XrRCOtbx"
      },
      "id": "EZy2XrRCOtbx",
      "execution_count": 9,
      "outputs": []
    },
    {
      "cell_type": "code",
      "source": [
        "print(df.head())"
      ],
      "metadata": {
        "id": "T58qswaTP-9P",
        "outputId": "2871c837-caa7-4369-f5c6-3385b1fded31",
        "colab": {
          "base_uri": "https://localhost:8080/"
        }
      },
      "id": "T58qswaTP-9P",
      "execution_count": 10,
      "outputs": [
        {
          "output_type": "stream",
          "name": "stdout",
          "text": [
            "      name nametype recclass  mass (g)   fall    year    reclat    reclong  \\\n",
            "id                                                                           \n",
            "1   Aachen    Valid       L5      21.0   Fell  1880.0  50.77500    6.08333   \n",
            "2   Aarhus    Valid       H6     720.0   Fell  1951.0  56.18333   10.23333   \n",
            "4    Abajo    Valid       H5     331.0  Found  1982.0  26.80000 -105.41667   \n",
            "5   Abbott    Valid     H3-6   21100.0  Found  1951.0  36.30000 -104.28333   \n",
            "6     Abee    Valid      EH4  107000.0   Fell  1952.0  54.21667 -113.00000   \n",
            "\n",
            "             GeoLocation  before_1970  \n",
            "id                                     \n",
            "1      (50.775, 6.08333)         True  \n",
            "2   (56.18333, 10.23333)         True  \n",
            "4     (26.8, -105.41667)        False  \n",
            "5     (36.3, -104.28333)         True  \n",
            "6     (54.21667, -113.0)         True  \n"
          ]
        }
      ]
    },
    {
      "cell_type": "code",
      "source": [
        "subset = df.loc[10036:10040]"
      ],
      "metadata": {
        "id": "A2Tah6cnOQu8"
      },
      "id": "A2Tah6cnOQu8",
      "execution_count": 11,
      "outputs": []
    },
    {
      "cell_type": "code",
      "execution_count": 12,
      "id": "e5469d51-17df-41a7-a320-0811593ae80e",
      "metadata": {
        "id": "e5469d51-17df-41a7-a320-0811593ae80e"
      },
      "outputs": [],
      "source": [
        "assert df.year.dtype == 'float64'\n",
        "assert df.index.name == 'id'\n",
        "subset = subset.rename(columns = {'mass (g)': 'mass'})\n",
        "assert subset.mass.mean() == 33964.25"
      ]
    },
    {
      "cell_type": "markdown",
      "id": "7491b4d2-7d88-4695-9868-7a5c0e551c45",
      "metadata": {
        "id": "7491b4d2-7d88-4695-9868-7a5c0e551c45"
      },
      "source": [
        "#### Exercise-1.3\n",
        "\n",
        "##### Using the meteorite data from the `Meteorite_Landings.csv` file, create a pivot table that shows both the number of meteorites and the 95th percentile of meteorite mass for those that were found versus observed falling per year from 2005 through 2009 (inclusive).\n",
        "\n",
        "Hint 1: Be sure to convert the `year` column to a number as we did in the previous exercise.\n",
        "\n",
        "Hint 2: There are missing values on mass."
      ]
    },
    {
      "cell_type": "code",
      "execution_count": 27,
      "id": "c4f3be8c-1839-44f6-a57f-9566269c66a7",
      "metadata": {
        "id": "c4f3be8c-1839-44f6-a57f-9566269c66a7",
        "outputId": "1b267734-ec66-4767-8b93-914c6585a758",
        "colab": {
          "base_uri": "https://localhost:8080/"
        }
      },
      "outputs": [
        {
          "output_type": "stream",
          "name": "stdout",
          "text": [
            "       count <lambda>\n",
            "        mass     mass\n",
            "year                 \n",
            "2005.0   875  4500.00\n",
            "2006.0  2456  1722.55\n",
            "2007.0  1189  1223.12\n",
            "2008.0   957  2745.60\n",
            "2009.0  1497  1446.94\n"
          ]
        }
      ],
      "source": [
        "import numpy as np\n",
        "import pandas as pd\n",
        "\n",
        "df = pd.read_csv('/content/Meteorite_Landings.csv')\n",
        "df = df.rename(columns = {'mass (g)': 'mass'})\n",
        "df = df.assign(\n",
        "    year = lambda x: pd.to_numeric(x.year.str.slice(6,10)), #retreive only the year, and convert it to a numeric variable\n",
        "    before1970 = lambda x: x.year < 1970, #a columns that indicates wheter the year is before 1970 or not\n",
        "    mass = lambda x: x.mass.fillna(0) #remove NA's in the MASS column\n",
        ")\n",
        "\n",
        "df_pivoted = df[(df.year >= 2005) & (df.year <= 2009)].pivot_table(\n",
        "    index='year', values='mass', aggfunc=['count', lambda x:np.percentile(x,95)]\n",
        ")\n",
        "\n",
        "print(df_pivoted)"
      ]
    },
    {
      "cell_type": "code",
      "execution_count": 25,
      "id": "2ae9c497-4fc7-4598-b7de-0d3b6bfd0b2a",
      "metadata": {
        "id": "2ae9c497-4fc7-4598-b7de-0d3b6bfd0b2a",
        "outputId": "90f3a882-1d17-48bb-cd32-5508a7cfce34",
        "colab": {
          "base_uri": "https://localhost:8080/"
        }
      },
      "outputs": [
        {
          "output_type": "stream",
          "name": "stderr",
          "text": [
            "<ipython-input-25-7b575a914021>:1: FutureWarning: Series.__getitem__ treating keys as positions is deprecated. In a future version, integer keys will always be treated as labels (consistent with DataFrame behavior). To access a value by position, use `ser.iloc[pos]`\n",
            "  assert df_pivoted.loc[2006][0] == 2456\n",
            "<ipython-input-25-7b575a914021>:2: FutureWarning: Series.__getitem__ treating keys as positions is deprecated. In a future version, integer keys will always be treated as labels (consistent with DataFrame behavior). To access a value by position, use `ser.iloc[pos]`\n",
            "  assert int(df_pivoted.loc[2006][1]) == 1722\n"
          ]
        }
      ],
      "source": [
        "assert df_pivoted.loc[2006][0] == 2456\n",
        "assert int(df_pivoted.loc[2006][1]) == 1722"
      ]
    }
  ],
  "metadata": {
    "kernelspec": {
      "display_name": "Python 3 (ipykernel)",
      "language": "python",
      "name": "python3"
    },
    "language_info": {
      "codemirror_mode": {
        "name": "ipython",
        "version": 3
      },
      "file_extension": ".py",
      "mimetype": "text/x-python",
      "name": "python",
      "nbconvert_exporter": "python",
      "pygments_lexer": "ipython3",
      "version": "3.11.4"
    },
    "colab": {
      "provenance": []
    }
  },
  "nbformat": 4,
  "nbformat_minor": 5
}