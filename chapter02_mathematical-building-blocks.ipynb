{
  "cells": [
    {
      "cell_type": "markdown",
      "metadata": {
        "id": "dj3rGSVIoHCz"
      },
      "source": [
        "This is a companion notebook for the book [Deep Learning with Python, Second Edition](https://www.manning.com/books/deep-learning-with-python-second-edition?a_aid=keras&a_bid=76564dff). For readability, it only contains runnable code blocks and section titles, and omits everything else in the book: text paragraphs, figures, and pseudocode.\n",
        "\n",
        "**If you want to be able to follow what's going on, I recommend reading the notebook side by side with your copy of the book.**\n",
        "\n",
        "This notebook was generated for TensorFlow 2.6."
      ]
    },
    {
      "cell_type": "markdown",
      "metadata": {
        "id": "7PheXqLmoHC1"
      },
      "source": [
        "# The mathematical building blocks of neural networks"
      ]
    },
    {
      "cell_type": "markdown",
      "metadata": {
        "id": "pF_18FSvoHC2"
      },
      "source": [
        "## A first look at a neural network"
      ]
    },
    {
      "cell_type": "markdown",
      "metadata": {
        "id": "HRuWE8BToHC2"
      },
      "source": [
        "**Loading the MNIST dataset in Keras**"
      ]
    },
    {
      "cell_type": "code",
      "execution_count": 1,
      "metadata": {
        "colab": {
          "base_uri": "https://localhost:8080/"
        },
        "id": "5eUbW6GVoHC3",
        "outputId": "f0966339-c796-4f95-9116-b2cbf8335c1f"
      },
      "outputs": [
        {
          "output_type": "stream",
          "name": "stdout",
          "text": [
            "Downloading data from https://storage.googleapis.com/tensorflow/tf-keras-datasets/mnist.npz\n",
            "\u001b[1m11490434/11490434\u001b[0m \u001b[32m━━━━━━━━━━━━━━━━━━━━\u001b[0m\u001b[37m\u001b[0m \u001b[1m0s\u001b[0m 0us/step\n"
          ]
        }
      ],
      "source": [
        "from tensorflow.keras.datasets import mnist\n",
        "(train_images, train_labels), (test_images, test_labels) = mnist.load_data()"
      ]
    },
    {
      "cell_type": "markdown",
      "source": [
        "train_images: Contains the images used for training the neural network.\n",
        "\n",
        "train_labels: Contains the corresponding labels for the training images (i.e., the actual digit each image represents).\n",
        "\n",
        "test_images: Contains the images used for testing the performance of the trained network.\n",
        "\n",
        "test_labels: Contains the corresponding labels for the testing images."
      ],
      "metadata": {
        "id": "KBjZjCJCFjRx"
      }
    },
    {
      "cell_type": "code",
      "execution_count": 2,
      "metadata": {
        "colab": {
          "base_uri": "https://localhost:8080/"
        },
        "id": "lH-2aS-JoHC3",
        "outputId": "88f2f9be-1652-44c0-9025-29f9749346a4"
      },
      "outputs": [
        {
          "output_type": "execute_result",
          "data": {
            "text/plain": [
              "(60000, 28, 28)"
            ]
          },
          "metadata": {},
          "execution_count": 2
        }
      ],
      "source": [
        "train_images.shape"
      ]
    },
    {
      "cell_type": "markdown",
      "source": [
        "train_images is a NumPy array containing the training images.\n",
        ".shape is an attribute of NumPy arrays that tells us the dimensions of the array (how many images there are, their height, and their width)."
      ],
      "metadata": {
        "id": "oTcqORtmGCwC"
      }
    },
    {
      "cell_type": "code",
      "execution_count": 3,
      "metadata": {
        "colab": {
          "base_uri": "https://localhost:8080/"
        },
        "id": "9aPpKqPfoHC4",
        "outputId": "9b15524a-e55a-4d26-831c-3de70c8492c0"
      },
      "outputs": [
        {
          "output_type": "execute_result",
          "data": {
            "text/plain": [
              "60000"
            ]
          },
          "metadata": {},
          "execution_count": 3
        }
      ],
      "source": [
        "len(train_labels)"
      ]
    },
    {
      "cell_type": "code",
      "execution_count": 4,
      "metadata": {
        "colab": {
          "base_uri": "https://localhost:8080/"
        },
        "id": "rVrqyv-aoHC4",
        "outputId": "b018b483-367d-441e-ca42-848e10cade19"
      },
      "outputs": [
        {
          "output_type": "execute_result",
          "data": {
            "text/plain": [
              "array([5, 0, 4, ..., 5, 6, 8], dtype=uint8)"
            ]
          },
          "metadata": {},
          "execution_count": 4
        }
      ],
      "source": [
        "train_labels"
      ]
    },
    {
      "cell_type": "code",
      "execution_count": 5,
      "metadata": {
        "colab": {
          "base_uri": "https://localhost:8080/"
        },
        "id": "H7djy8K6oHC5",
        "outputId": "31423573-b53a-4324-fc78-522313b7e359"
      },
      "outputs": [
        {
          "output_type": "execute_result",
          "data": {
            "text/plain": [
              "(10000, 28, 28)"
            ]
          },
          "metadata": {},
          "execution_count": 5
        }
      ],
      "source": [
        "test_images.shape"
      ]
    },
    {
      "cell_type": "code",
      "execution_count": 6,
      "metadata": {
        "colab": {
          "base_uri": "https://localhost:8080/"
        },
        "id": "_a6dgNR3oHC5",
        "outputId": "e3171186-bbf1-4751-b594-a7a1c3307e72"
      },
      "outputs": [
        {
          "output_type": "execute_result",
          "data": {
            "text/plain": [
              "10000"
            ]
          },
          "metadata": {},
          "execution_count": 6
        }
      ],
      "source": [
        "len(test_labels)"
      ]
    },
    {
      "cell_type": "code",
      "execution_count": 7,
      "metadata": {
        "colab": {
          "base_uri": "https://localhost:8080/"
        },
        "id": "2HOIv-k1oHC5",
        "outputId": "a9e9da53-8c8d-4924-bcc3-98003d8dbc2c"
      },
      "outputs": [
        {
          "output_type": "execute_result",
          "data": {
            "text/plain": [
              "array([7, 2, 1, ..., 4, 5, 6], dtype=uint8)"
            ]
          },
          "metadata": {},
          "execution_count": 7
        }
      ],
      "source": [
        "test_labels"
      ]
    },
    {
      "cell_type": "markdown",
      "metadata": {
        "id": "DUG7GDw1oHC6"
      },
      "source": [
        "**The network architecture**"
      ]
    },
    {
      "cell_type": "code",
      "execution_count": 9,
      "metadata": {
        "id": "s4EeRfejoHC6"
      },
      "outputs": [],
      "source": [
        "from tensorflow import keras\n",
        "from tensorflow.keras import layers\n",
        "model = keras.Sequential([\n",
        "    layers.Dense(512, activation=\"relu\"),\n",
        "    layers.Dense(10, activation=\"softmax\")\n",
        "])"
      ]
    },
    {
      "cell_type": "markdown",
      "source": [
        "**Tensorflow** = package, **keras** = API for building and training neural networks,\n",
        "layers = access to different types of neural network layers.\n",
        "\n",
        "**model = keras.Sequential(...)** = creating the simplest type of keras model, sequetial model. This stacks layers sequentally - meaning each layer has one input tensor and one output tensor, making it a straight pipeline of layers.Is a linear model. A tensor is a data struture.\n",
        "\n",
        "**layers.Dense(512, activation=\"relu\")**: This adds a densely connected layer to the model (also known as a fully connected layer).\n",
        "**512**: This is the number of neurons or units within the layer. Each neuron learns to detect specific features or patterns in the input data.\n",
        "**activation=\"relu**\": This sets the activation function of the layer to the Rectified Linear Unit (ReLU). An activation function introduces non-linearity to the model, allowing it to learn complex relationships in the data. ReLU is a popular activation function.\n",
        "\n",
        "**ayers.Dense(10, activation=\"softmax\"):** This is the output layer of the model.\n",
        "**10**: This layer has 10 neurons, corresponding to the 10 possible digit classes (0-9) in the MNIST dataset (which this code is likely used with).\n",
        "**activation=\"softmax\"**: This layer uses the softmax activation function to generate probabilities for each of the 10 digit classes. The class with the highest probability is the model's prediction.\n",
        "\n"
      ],
      "metadata": {
        "id": "W1HmUgMCGiH6"
      }
    },
    {
      "cell_type": "markdown",
      "metadata": {
        "id": "MixAGPuToHC7"
      },
      "source": [
        "**The compilation step**"
      ]
    },
    {
      "cell_type": "code",
      "execution_count": 11,
      "metadata": {
        "id": "QzIU86lJoHC7"
      },
      "outputs": [],
      "source": [
        "model.compile(optimizer=\"rmsprop\",\n",
        "              loss=\"sparse_categorical_crossentropy\",\n",
        "              metrics=[\"accuracy\"])"
      ]
    },
    {
      "cell_type": "markdown",
      "source": [
        "Figures the model for training.\n",
        "**The optimizer** determines how the model will update its weights based on the data it sees.\n",
        "**The loss function** quantifies the difference between the model's predictions and the actual target values.\n",
        "**sparse_categorical_crossentropy** is a common loss function used for multi-class classification problems where the target labels are integers (like in this case, digits 0-9).\n",
        "**Metrics** are used to evaluate the performance of the model during training."
      ],
      "metadata": {
        "id": "PWbFHCkaIgbi"
      }
    },
    {
      "cell_type": "markdown",
      "metadata": {
        "id": "jngTF7rAoHC7"
      },
      "source": [
        "**Preparing the image data**"
      ]
    },
    {
      "cell_type": "code",
      "execution_count": 12,
      "metadata": {
        "id": "cpJgufQGoHC8"
      },
      "outputs": [],
      "source": [
        "train_images = train_images.reshape((60000, 28 * 28))\n",
        "train_images = train_images.astype(\"float32\") / 255\n",
        "test_images = test_images.reshape((10000, 28 * 28))\n",
        "test_images = test_images.astype(\"float32\") / 255"
      ]
    },
    {
      "cell_type": "markdown",
      "source": [
        "10000 and 60000 are images. 28*28 is the size of the arraz each image is flattended into.\n",
        "**astype(\"float32\")** converts the data type of the image arrays to float32.\n",
        "**/ 255 **divides each pixel value by 255. This operation normalizes the pixel values to a range between 0 and 1."
      ],
      "metadata": {
        "id": "lHnD1hqvJPWH"
      }
    },
    {
      "cell_type": "markdown",
      "metadata": {
        "id": "_UgJysg7oHC8"
      },
      "source": [
        "**\"Fitting\" the model**"
      ]
    },
    {
      "cell_type": "code",
      "execution_count": 13,
      "metadata": {
        "colab": {
          "base_uri": "https://localhost:8080/"
        },
        "id": "Xwe2ddOaoHC8",
        "outputId": "e2933c52-d8fc-4551-8889-82e3f1d25e5f"
      },
      "outputs": [
        {
          "output_type": "stream",
          "name": "stdout",
          "text": [
            "Epoch 1/5\n",
            "\u001b[1m469/469\u001b[0m \u001b[32m━━━━━━━━━━━━━━━━━━━━\u001b[0m\u001b[37m\u001b[0m \u001b[1m5s\u001b[0m 8ms/step - accuracy: 0.8691 - loss: 0.4471\n",
            "Epoch 2/5\n",
            "\u001b[1m469/469\u001b[0m \u001b[32m━━━━━━━━━━━━━━━━━━━━\u001b[0m\u001b[37m\u001b[0m \u001b[1m5s\u001b[0m 8ms/step - accuracy: 0.9658 - loss: 0.1172\n",
            "Epoch 3/5\n",
            "\u001b[1m469/469\u001b[0m \u001b[32m━━━━━━━━━━━━━━━━━━━━\u001b[0m\u001b[37m\u001b[0m \u001b[1m6s\u001b[0m 9ms/step - accuracy: 0.9786 - loss: 0.0699\n",
            "Epoch 4/5\n",
            "\u001b[1m469/469\u001b[0m \u001b[32m━━━━━━━━━━━━━━━━━━━━\u001b[0m\u001b[37m\u001b[0m \u001b[1m4s\u001b[0m 8ms/step - accuracy: 0.9850 - loss: 0.0516\n",
            "Epoch 5/5\n",
            "\u001b[1m469/469\u001b[0m \u001b[32m━━━━━━━━━━━━━━━━━━━━\u001b[0m\u001b[37m\u001b[0m \u001b[1m4s\u001b[0m 8ms/step - accuracy: 0.9888 - loss: 0.0377\n"
          ]
        },
        {
          "output_type": "execute_result",
          "data": {
            "text/plain": [
              "<keras.src.callbacks.history.History at 0x78f2dc9e93d0>"
            ]
          },
          "metadata": {},
          "execution_count": 13
        }
      ],
      "source": [
        "model.fit(train_images, train_labels, epochs=5, batch_size=128)"
      ]
    },
    {
      "cell_type": "markdown",
      "source": [
        "**epochs=5**: epochs refers to the number of times the training process will iterate over the entire training dataset.\n",
        "**batch_size=128: batch_size** controls how many images are processed before the model updates its internal parameters (weights). Dividing the training data into batches is for efficiency as well as to improve how well the model generalizes."
      ],
      "metadata": {
        "id": "h0DtfxsxJ8qB"
      }
    },
    {
      "cell_type": "markdown",
      "metadata": {
        "id": "wcPw_f5aoHC9"
      },
      "source": [
        "**Using the model to make predictions**"
      ]
    },
    {
      "cell_type": "code",
      "execution_count": 14,
      "metadata": {
        "colab": {
          "base_uri": "https://localhost:8080/"
        },
        "id": "xz7-lFudoHC9",
        "outputId": "095c1e1f-fe15-4999-ea9b-6a88afbace6b"
      },
      "outputs": [
        {
          "output_type": "stream",
          "name": "stdout",
          "text": [
            "\u001b[1m1/1\u001b[0m \u001b[32m━━━━━━━━━━━━━━━━━━━━\u001b[0m\u001b[37m\u001b[0m \u001b[1m0s\u001b[0m 65ms/step\n"
          ]
        },
        {
          "output_type": "execute_result",
          "data": {
            "text/plain": [
              "array([1.5843495e-08, 1.8230490e-09, 9.0865689e-07, 2.4350782e-06,\n",
              "       1.2368508e-10, 2.6978761e-09, 2.2257625e-12, 9.9999577e-01,\n",
              "       3.4152276e-08, 7.7347983e-07], dtype=float32)"
            ]
          },
          "metadata": {},
          "execution_count": 14
        }
      ],
      "source": [
        "test_digits = test_images[0:10]\n",
        "predictions = model.predict(test_digits)\n",
        "predictions[0]"
      ]
    },
    {
      "cell_type": "code",
      "execution_count": 15,
      "metadata": {
        "colab": {
          "base_uri": "https://localhost:8080/"
        },
        "id": "9eUcppRloHC9",
        "outputId": "958ce745-fd00-4d60-d4fd-ed0ec826e509"
      },
      "outputs": [
        {
          "output_type": "execute_result",
          "data": {
            "text/plain": [
              "7"
            ]
          },
          "metadata": {},
          "execution_count": 15
        }
      ],
      "source": [
        "predictions[0].argmax()"
      ]
    },
    {
      "cell_type": "markdown",
      "source": [
        "**argmax** finds the index (or position) of the maximum value within that element. Meaning this line finds the digit with the highest probability."
      ],
      "metadata": {
        "id": "52KMExQQKW2G"
      }
    },
    {
      "cell_type": "code",
      "execution_count": 16,
      "metadata": {
        "colab": {
          "base_uri": "https://localhost:8080/"
        },
        "id": "LsPVYbXooHC-",
        "outputId": "0408c217-bdde-469b-a329-a08171ac9cf3"
      },
      "outputs": [
        {
          "output_type": "execute_result",
          "data": {
            "text/plain": [
              "0.99999577"
            ]
          },
          "metadata": {},
          "execution_count": 16
        }
      ],
      "source": [
        "predictions[0][7]"
      ]
    },
    {
      "cell_type": "code",
      "execution_count": 17,
      "metadata": {
        "colab": {
          "base_uri": "https://localhost:8080/"
        },
        "id": "U9gHUfYQoHC-",
        "outputId": "8e696a4e-6f93-4709-bbb4-6c43f546731b"
      },
      "outputs": [
        {
          "output_type": "execute_result",
          "data": {
            "text/plain": [
              "7"
            ]
          },
          "metadata": {},
          "execution_count": 17
        }
      ],
      "source": [
        "test_labels[0]"
      ]
    },
    {
      "cell_type": "markdown",
      "metadata": {
        "id": "TRMZWWIAoHC-"
      },
      "source": [
        "**Evaluating the model on new data**"
      ]
    },
    {
      "cell_type": "code",
      "execution_count": 18,
      "metadata": {
        "colab": {
          "base_uri": "https://localhost:8080/"
        },
        "id": "QLmTZbZLoHC-",
        "outputId": "39d79d2a-e107-4d38-9bc7-96ea836dcc6a"
      },
      "outputs": [
        {
          "output_type": "stream",
          "name": "stdout",
          "text": [
            "\u001b[1m313/313\u001b[0m \u001b[32m━━━━━━━━━━━━━━━━━━━━\u001b[0m\u001b[37m\u001b[0m \u001b[1m1s\u001b[0m 2ms/step - accuracy: 0.9770 - loss: 0.0744\n",
            "test_acc: 0.98089998960495\n"
          ]
        }
      ],
      "source": [
        "test_loss, test_acc = model.evaluate(test_images, test_labels)\n",
        "print(f\"test_acc: {test_acc}\")"
      ]
    },
    {
      "cell_type": "markdown",
      "metadata": {
        "id": "-iwL5-1KoHC-"
      },
      "source": [
        "## Data representations for neural networks"
      ]
    },
    {
      "cell_type": "markdown",
      "metadata": {
        "id": "8wT9zk8boHC-"
      },
      "source": [
        "### Scalars (rank-0 tensors)"
      ]
    },
    {
      "cell_type": "code",
      "execution_count": 19,
      "metadata": {
        "colab": {
          "base_uri": "https://localhost:8080/"
        },
        "id": "b4SQwUHtoHC-",
        "outputId": "ba5eeae0-7f65-49ed-bfe8-322c25564a7c"
      },
      "outputs": [
        {
          "output_type": "execute_result",
          "data": {
            "text/plain": [
              "array(12)"
            ]
          },
          "metadata": {},
          "execution_count": 19
        }
      ],
      "source": [
        "import numpy as np\n",
        "x = np.array(12)\n",
        "x"
      ]
    },
    {
      "cell_type": "markdown",
      "source": [],
      "metadata": {
        "id": "umYREyqPMYxR"
      }
    },
    {
      "cell_type": "markdown",
      "source": [
        "**x = np.array(12):** Here, we're creating a NumPy array named x and assigning it the value 12. This x is our scalar (a single numerical value)."
      ],
      "metadata": {
        "id": "56CGs0i0MY08"
      }
    },
    {
      "cell_type": "code",
      "execution_count": 20,
      "metadata": {
        "colab": {
          "base_uri": "https://localhost:8080/"
        },
        "id": "GqaDJ7ZmoHC_",
        "outputId": "a9828186-c0ca-4506-eb35-34714c64aeff"
      },
      "outputs": [
        {
          "output_type": "execute_result",
          "data": {
            "text/plain": [
              "0"
            ]
          },
          "metadata": {},
          "execution_count": 20
        }
      ],
      "source": [
        "x.ndim"
      ]
    },
    {
      "cell_type": "markdown",
      "metadata": {
        "id": "JCQE-7wBoHC_"
      },
      "source": [
        "### Vectors (rank-1 tensors)"
      ]
    },
    {
      "cell_type": "code",
      "execution_count": 21,
      "metadata": {
        "colab": {
          "base_uri": "https://localhost:8080/"
        },
        "id": "aRNZIeTvoHC_",
        "outputId": "b89e9644-e39c-4aef-d9a5-db43927317a5"
      },
      "outputs": [
        {
          "output_type": "execute_result",
          "data": {
            "text/plain": [
              "array([12,  3,  6, 14,  7])"
            ]
          },
          "metadata": {},
          "execution_count": 21
        }
      ],
      "source": [
        "x = np.array([12, 3, 6, 14, 7])\n",
        "x"
      ]
    },
    {
      "cell_type": "code",
      "execution_count": 22,
      "metadata": {
        "colab": {
          "base_uri": "https://localhost:8080/"
        },
        "id": "691g-bSVoHC_",
        "outputId": "58ca3d34-857e-4683-85b7-b11971a75618"
      },
      "outputs": [
        {
          "output_type": "execute_result",
          "data": {
            "text/plain": [
              "1"
            ]
          },
          "metadata": {},
          "execution_count": 22
        }
      ],
      "source": [
        "x.ndim"
      ]
    },
    {
      "cell_type": "markdown",
      "source": [
        "**Rank-1 Tensors: Vectors**\n",
        "In the world of tensors, a rank-1 tensor is simply a vector. Think of it as a list of numbers. Each number in the list is an element of the vector.\n",
        "\n",
        "Here's a breakdown:\n",
        "\n",
        "**Rank**: The rank of a tensor refers to the number of dimensions or axes it has. Since a vector has only one dimension (a single line of numbers), it's called a rank-1 tensor.\n",
        "\n",
        "**Visual Representation**: Imagine a single row or column of numbers. That's your vector, your rank-1 tensor."
      ],
      "metadata": {
        "id": "QKkVy4vnMpG1"
      }
    },
    {
      "cell_type": "markdown",
      "metadata": {
        "id": "9mJflKYWoHC_"
      },
      "source": [
        "### Matrices (rank-2 tensors)"
      ]
    },
    {
      "cell_type": "code",
      "execution_count": 23,
      "metadata": {
        "colab": {
          "base_uri": "https://localhost:8080/"
        },
        "id": "-C1UP_75oHC_",
        "outputId": "b731c511-84da-47c7-c2b6-7e9b0c499c4a"
      },
      "outputs": [
        {
          "output_type": "execute_result",
          "data": {
            "text/plain": [
              "2"
            ]
          },
          "metadata": {},
          "execution_count": 23
        }
      ],
      "source": [
        "x = np.array([[5, 78, 2, 34, 0],\n",
        "              [6, 79, 3, 35, 1],\n",
        "              [7, 80, 4, 36, 2]])\n",
        "x.ndim"
      ]
    },
    {
      "cell_type": "markdown",
      "source": [
        "**Rank-2 Tensors: Matrices**\n",
        "A rank-2 tensor is essentially a matrix. You can think of it as a grid of numbers arranged in rows and columns.\n",
        "\n",
        "Here's a breakdown:\n",
        "\n",
        "**Rank**: As the name suggests, rank-2 tensors have two dimensions. These dimensions correspond to the rows and columns of the matrix.\n",
        "\n",
        "**Visual Representation:** Imagine a table of numbers with rows and columns. That's your matrix, your rank-2 tensor.\n",
        "\n",
        "In this example, x is a rank-2 tensor because it's a two-dimensional array with 3 rows and 5 columns.\n",
        "\n",
        "\n",
        "\n"
      ],
      "metadata": {
        "id": "a50UwAS4NFxf"
      }
    },
    {
      "cell_type": "markdown",
      "metadata": {
        "id": "FZj8fmNMoHC_"
      },
      "source": [
        "### Rank-3 and higher-rank tensors\n",
        "\n",
        "> Tilføj citatblok\n",
        "\n"
      ]
    },
    {
      "cell_type": "code",
      "execution_count": 24,
      "metadata": {
        "colab": {
          "base_uri": "https://localhost:8080/"
        },
        "id": "7k-QxRFyoHDA",
        "outputId": "eeaac959-9d12-46a1-b3a6-9d5d23983e14"
      },
      "outputs": [
        {
          "output_type": "execute_result",
          "data": {
            "text/plain": [
              "3"
            ]
          },
          "metadata": {},
          "execution_count": 24
        }
      ],
      "source": [
        "x = np.array([[[5, 78, 2, 34, 0],\n",
        "               [6, 79, 3, 35, 1],\n",
        "               [7, 80, 4, 36, 2]],\n",
        "              [[5, 78, 2, 34, 0],\n",
        "               [6, 79, 3, 35, 1],\n",
        "               [7, 80, 4, 36, 2]],\n",
        "              [[5, 78, 2, 34, 0],\n",
        "               [6, 79, 3, 35, 1],\n",
        "               [7, 80, 4, 36, 2]]])\n",
        "x.ndim"
      ]
    },
    {
      "cell_type": "markdown",
      "source": [
        "**Rank-3 Tensors and Beyond**\n",
        "Rank-3 tensors are a step up in complexity from matrices (rank-2 tensors). They can be visualized as a cube of numbers or a stack of matrices.\n",
        "\n",
        "Here's a breakdown:\n",
        "\n",
        "**Rank**: Rank-3 tensors have three dimensions. You can think of these dimensions as height, width, and depth (or channels, depending on the context).\n",
        "\n",
        "**Visual Representation:** Imagine a Rubik's Cube where each small cube contains a number. That's a good analogy for a rank-3 tensor. Alternatively, picture a stack of matrices—that's another way to visualize them."
      ],
      "metadata": {
        "id": "WJOeCbHrNr-s"
      }
    },
    {
      "cell_type": "markdown",
      "metadata": {
        "id": "wqvLdYX6oHDA"
      },
      "source": [
        "### Key attributes"
      ]
    },
    {
      "cell_type": "code",
      "execution_count": 25,
      "metadata": {
        "id": "rmaqP4kvoHDA"
      },
      "outputs": [],
      "source": [
        "from tensorflow.keras.datasets import mnist\n",
        "(train_images, train_labels), (test_images, test_labels) = mnist.load_data()"
      ]
    },
    {
      "cell_type": "code",
      "execution_count": 26,
      "metadata": {
        "colab": {
          "base_uri": "https://localhost:8080/"
        },
        "id": "nVXMvBSwoHDM",
        "outputId": "169a7612-181f-4113-f5a1-ebe7a5e393e2"
      },
      "outputs": [
        {
          "output_type": "execute_result",
          "data": {
            "text/plain": [
              "3"
            ]
          },
          "metadata": {},
          "execution_count": 26
        }
      ],
      "source": [
        "train_images.ndim"
      ]
    },
    {
      "cell_type": "code",
      "execution_count": 27,
      "metadata": {
        "colab": {
          "base_uri": "https://localhost:8080/"
        },
        "id": "ZlbuZvfloHDM",
        "outputId": "bafcd1e4-c56f-40b8-a632-b8fbd193c039"
      },
      "outputs": [
        {
          "output_type": "execute_result",
          "data": {
            "text/plain": [
              "(60000, 28, 28)"
            ]
          },
          "metadata": {},
          "execution_count": 27
        }
      ],
      "source": [
        "train_images.shape"
      ]
    },
    {
      "cell_type": "code",
      "execution_count": 28,
      "metadata": {
        "colab": {
          "base_uri": "https://localhost:8080/"
        },
        "id": "gBsEk9n9oHDN",
        "outputId": "60431c89-1c5f-442e-eff5-02aeff1e2b92"
      },
      "outputs": [
        {
          "output_type": "execute_result",
          "data": {
            "text/plain": [
              "dtype('uint8')"
            ]
          },
          "metadata": {},
          "execution_count": 28
        }
      ],
      "source": [
        "train_images.dtype"
      ]
    },
    {
      "cell_type": "markdown",
      "source": [
        "Imagine you have a container (the NumPy array train_images) that holds a collection of items (the image data). The .dtype attribute tells you what type of items are stored in the container – for example, whether they are integers, floating-point numbers, or something else."
      ],
      "metadata": {
        "id": "KHmGhnn6Qgfg"
      }
    },
    {
      "cell_type": "markdown",
      "metadata": {
        "id": "OfkywpKhoHDN"
      },
      "source": [
        "**Displaying the fourth digit**"
      ]
    },
    {
      "cell_type": "code",
      "execution_count": 29,
      "metadata": {
        "colab": {
          "base_uri": "https://localhost:8080/",
          "height": 430
        },
        "id": "ZfRPD4Q7oHDN",
        "outputId": "000da9f0-5f0c-49b7-f791-4ccde71b756b"
      },
      "outputs": [
        {
          "output_type": "display_data",
          "data": {
            "text/plain": [
              "<Figure size 640x480 with 1 Axes>"
            ],
            "image/png": "[encoded data removed]"
          },
          "metadata": {}
        }
      ],
      "source": [
        "import matplotlib.pyplot as plt\n",
        "digit = train_images[4]\n",
        "plt.imshow(digit, cmap=plt.cm.binary)\n",
        "plt.show()"
      ]
    },
    {
      "cell_type": "markdown",
      "source": [
        "**digit = train_images[4]:** This line extracts the fourth image from the train_images dataset and assigns it to the variable digit.\n",
        "\n",
        "**plt.imshow()** is a function in pyplot that displays an image.\n",
        "\n",
        "**cmap=plt.cm.binary** is an optional argument that specifies the colormap to use for displaying the image. In this case, plt.cm.binary indicates that the image should be displayed in grayscale (black and white).\n",
        "\n"
      ],
      "metadata": {
        "id": "C7V3AKsuQuln"
      }
    },
    {
      "cell_type": "code",
      "execution_count": 30,
      "metadata": {
        "colab": {
          "base_uri": "https://localhost:8080/"
        },
        "id": "sCz9cqrUoHDO",
        "outputId": "c1db6ad1-6ace-44d1-95ef-7f4ac74f5439"
      },
      "outputs": [
        {
          "output_type": "execute_result",
          "data": {
            "text/plain": [
              "9"
            ]
          },
          "metadata": {},
          "execution_count": 30
        }
      ],
      "source": [
        "train_labels[4]"
      ]
    },
    {
      "cell_type": "markdown",
      "metadata": {
        "id": "2FnA3bunoHDO"
      },
      "source": [
        "### Manipulating tensors in NumPy"
      ]
    },
    {
      "cell_type": "code",
      "execution_count": 31,
      "metadata": {
        "colab": {
          "base_uri": "https://localhost:8080/"
        },
        "id": "4giaY8qPoHDO",
        "outputId": "f80ebc61-fdd2-427b-8ac3-e0a18dcc4d6d"
      },
      "outputs": [
        {
          "output_type": "execute_result",
          "data": {
            "text/plain": [
              "(90, 28, 28)"
            ]
          },
          "metadata": {},
          "execution_count": 31
        }
      ],
      "source": [
        "my_slice = train_images[10:100]\n",
        "my_slice.shape"
      ]
    },
    {
      "cell_type": "code",
      "execution_count": 32,
      "metadata": {
        "colab": {
          "base_uri": "https://localhost:8080/"
        },
        "id": "vt1cRO6GoHDO",
        "outputId": "29a8e921-86ed-4e16-8dea-484087d8f741"
      },
      "outputs": [
        {
          "output_type": "execute_result",
          "data": {
            "text/plain": [
              "(90, 28, 28)"
            ]
          },
          "metadata": {},
          "execution_count": 32
        }
      ],
      "source": [
        "my_slice = train_images[10:100, :, :]\n",
        "my_slice.shape"
      ]
    },
    {
      "cell_type": "code",
      "execution_count": 33,
      "metadata": {
        "colab": {
          "base_uri": "https://localhost:8080/"
        },
        "id": "NWCUc4rioHDO",
        "outputId": "8bf6c50c-d2a5-4f9d-9d99-0e4b3ee199ce"
      },
      "outputs": [
        {
          "output_type": "execute_result",
          "data": {
            "text/plain": [
              "(90, 28, 28)"
            ]
          },
          "metadata": {},
          "execution_count": 33
        }
      ],
      "source": [
        "my_slice = train_images[10:100, 0:28, 0:28]\n",
        "my_slice.shape"
      ]
    },
    {
      "cell_type": "code",
      "execution_count": 36,
      "metadata": {
        "colab": {
          "base_uri": "https://localhost:8080/"
        },
        "id": "Kxu3bZkSoHDP",
        "outputId": "9a918287-7a5f-4751-8857-033537ea16c6"
      },
      "outputs": [
        {
          "output_type": "execute_result",
          "data": {
            "text/plain": [
              "(60000, 14, 14)"
            ]
          },
          "metadata": {},
          "execution_count": 36
        }
      ],
      "source": [
        "my_slice = train_images[:, 14:, 14:]\n",
        "my_slice.shape"
      ]
    },
    {
      "cell_type": "code",
      "execution_count": 37,
      "metadata": {
        "colab": {
          "base_uri": "https://localhost:8080/"
        },
        "id": "IGYh1kYRoHDP",
        "outputId": "d71f9987-c88d-4fd8-bc8a-377b8ea10cb3"
      },
      "outputs": [
        {
          "output_type": "execute_result",
          "data": {
            "text/plain": [
              "(60000, 14, 14)"
            ]
          },
          "metadata": {},
          "execution_count": 37
        }
      ],
      "source": [
        "my_slice = train_images[:, 7:-7, 7:-7]\n",
        "my_slice.shape"
      ]
    },
    {
      "cell_type": "markdown",
      "metadata": {
        "id": "2GgYuuxxoHDP"
      },
      "source": [
        "### The notion of data batches"
      ]
    },
    {
      "cell_type": "code",
      "execution_count": 38,
      "metadata": {
        "id": "N2qDzQb0oHDP"
      },
      "outputs": [],
      "source": [
        "batch = train_images[:128]"
      ]
    },
    {
      "cell_type": "markdown",
      "source": [
        "**[:128]:** This is called slicing notation. It's used to select a portion of an array. In this case, it's selecting the elements from the beginning of the array (index 0) up to, but not including, index 12"
      ],
      "metadata": {
        "id": "r0l8UOaxTD1I"
      }
    },
    {
      "cell_type": "code",
      "execution_count": 39,
      "metadata": {
        "id": "J4hv3T3woHDP"
      },
      "outputs": [],
      "source": [
        "batch = train_images[128:256]"
      ]
    },
    {
      "cell_type": "code",
      "execution_count": 42,
      "metadata": {
        "id": "z4XasL2toHDQ"
      },
      "outputs": [],
      "source": [
        "n = 3\n",
        "batch = train_images[128 * n:128 * (n + 1)]"
      ]
    },
    {
      "cell_type": "markdown",
      "metadata": {
        "id": "zMAgpGj2oHDQ"
      },
      "source": [
        "### Real-world examples of data tensors"
      ]
    },
    {
      "cell_type": "markdown",
      "metadata": {
        "id": "iJXuTVMWoHDQ"
      },
      "source": [
        "### Vector data"
      ]
    },
    {
      "cell_type": "markdown",
      "metadata": {
        "id": "KOJjkRsyoHDQ"
      },
      "source": [
        "### Timeseries data or sequence data"
      ]
    },
    {
      "cell_type": "markdown",
      "metadata": {
        "id": "WUcflXYToHDR"
      },
      "source": [
        "### Image data"
      ]
    },
    {
      "cell_type": "markdown",
      "metadata": {
        "id": "ScY-em9NoHDR"
      },
      "source": [
        "### Video data"
      ]
    },
    {
      "cell_type": "markdown",
      "metadata": {
        "id": "N6QeGpepoHDR"
      },
      "source": [
        "## The gears of neural networks: tensor operations"
      ]
    },
    {
      "cell_type": "markdown",
      "metadata": {
        "id": "v36mQ87yoHDR"
      },
      "source": [
        "### Element-wise operations"
      ]
    },
    {
      "cell_type": "code",
      "execution_count": 43,
      "metadata": {
        "id": "_8Lq1SKnoHDR"
      },
      "outputs": [],
      "source": [
        "def naive_relu(x):\n",
        "    assert len(x.shape) == 2\n",
        "    x = x.copy()\n",
        "    for i in range(x.shape[0]):\n",
        "        for j in range(x.shape[1]):\n",
        "            x[i, j] = max(x[i, j], 0)\n",
        "    return x"
      ]
    },
    {
      "cell_type": "markdown",
      "source": [
        "**naive_relu**: This function is a basic implementation of the Rectified Linear Unit (ReLU) activation function, a fundamental component in neural networks. Here's how it works step-by-step:\n",
        "\n",
        "1. assert len(x.shape) == 2: This line checks if the input x is a 2-dimensional tensor (a matrix). If it's not, it raises an error. This ensures the function is used with the expected data type.\n",
        "\n",
        "2. x = x.copy(): This line creates a copy of the input x. This is done to avoid modifying the original input data, which is generally good practice in programming.\n",
        "\n",
        "3. Nested Loops:\n",
        "\n",
        "\n",
        "*   for i in range(x.shape[0]):: This loop iterates over the rows of the input matrix x.\n",
        "*   for j in range(x.shape[1]):: This nested loop iterates over the columns of the input matrix x.\n",
        "\n",
        "\n",
        "4. x[i, j] = max(x[i, j], 0): This is the core of the ReLU function. For each element in the matrix x, it applies the following logic:\n",
        "\n",
        "*   If the element is greater than 0, it remains unchanged.\n",
        "*   If the element is less than or equal to 0, it is set to 0.\n",
        "\n",
        "5. return x: The function returns the modified matrix x after applying the ReLU activation to all its elements.\n",
        "\n",
        "\n"
      ],
      "metadata": {
        "id": "rir7irNITkgJ"
      }
    },
    {
      "cell_type": "code",
      "execution_count": 44,
      "metadata": {
        "id": "2QjpHf4yoHDR"
      },
      "outputs": [],
      "source": [
        "def naive_add(x, y):\n",
        "    assert len(x.shape) == 2\n",
        "    assert x.shape == y.shape\n",
        "    x = x.copy()\n",
        "    for i in range(x.shape[0]):\n",
        "        for j in range(x.shape[1]):\n",
        "            x[i, j] += y[i, j]\n",
        "    return x"
      ]
    },
    {
      "cell_type": "markdown",
      "source": [
        "**naive_add:** This function is a basic, element-wise addition operation for two tensors (represented as NumPy arrays)."
      ],
      "metadata": {
        "id": "Rp_LLvDeUS00"
      }
    },
    {
      "cell_type": "code",
      "execution_count": 47,
      "metadata": {
        "colab": {
          "base_uri": "https://localhost:8080/"
        },
        "id": "7AVTh_zxoHDR",
        "outputId": "88378fef-f6cf-4799-a417-cc1d2a30c7c0"
      },
      "outputs": [
        {
          "output_type": "stream",
          "name": "stdout",
          "text": [
            "Took: 0.01 s\n"
          ]
        }
      ],
      "source": [
        "import time\n",
        "\n",
        "x = np.random.random((20, 100))\n",
        "y = np.random.random((20, 100))\n",
        "\n",
        "t0 = time.time()\n",
        "for _ in range(1000):\n",
        "    z = x + y\n",
        "    z = np.maximum(z, 0.)\n",
        "print(\"Took: {0:.2f} s\".format(time.time() - t0))"
      ]
    },
    {
      "cell_type": "code",
      "execution_count": 46,
      "metadata": {
        "colab": {
          "base_uri": "https://localhost:8080/"
        },
        "id": "u9bF2fQjoHDS",
        "outputId": "05445440-1979-4d0b-dad5-d1fa4c76fd0b"
      },
      "outputs": [
        {
          "output_type": "stream",
          "name": "stdout",
          "text": [
            "Took: 1.81 s\n"
          ]
        }
      ],
      "source": [
        "t0 = time.time()\n",
        "for _ in range(1000):\n",
        "    z = naive_add(x, y)\n",
        "    z = naive_relu(z)\n",
        "print(\"Took: {0:.2f} s\".format(time.time() - t0))"
      ]
    },
    {
      "cell_type": "markdown",
      "metadata": {
        "id": "CTN7HhYUoHDS"
      },
      "source": [
        "### Broadcasting"
      ]
    },
    {
      "cell_type": "markdown",
      "source": [
        "Broadcasting is a powerful mechanism that allows NumPy to perform element-wise operations on arrays with different shapes, as long as those shapes are compatible in a specific way. It eliminates the need to write explicit loops to handle these differences, leading to cleaner and more efficient code.\n",
        "\n"
      ],
      "metadata": {
        "id": "iaBgNqW_UtYc"
      }
    },
    {
      "cell_type": "code",
      "execution_count": 48,
      "metadata": {
        "id": "dHBjeg_SoHDS"
      },
      "outputs": [],
      "source": [
        "import numpy as np\n",
        "X = np.random.random((32, 10))\n",
        "y = np.random.random((10,))"
      ]
    },
    {
      "cell_type": "code",
      "execution_count": 49,
      "metadata": {
        "id": "yur14OuyoHDS"
      },
      "outputs": [],
      "source": [
        "y = np.expand_dims(y, axis=0)"
      ]
    },
    {
      "cell_type": "code",
      "execution_count": 50,
      "metadata": {
        "id": "ZVillImcoHDS"
      },
      "outputs": [],
      "source": [
        "Y = np.concatenate([y] * 32, axis=0)"
      ]
    },
    {
      "cell_type": "code",
      "execution_count": 54,
      "metadata": {
        "id": "GjGVO2_loHDT"
      },
      "outputs": [],
      "source": [
        "def naive_add_matrix_and_vector(x, y):\n",
        "    assert len(x.shape) == 2\n",
        "    assert len(y.shape) == 1\n",
        "    assert x.shape[1] == y.shape[0]\n",
        "    x = x.copy()\n",
        "    for i in range(x.shape[0]):\n",
        "        for j in range(x.shape[1]):\n",
        "            x[i, j] += y[j]\n",
        "    return x"
      ]
    },
    {
      "cell_type": "markdown",
      "source": [
        "**def** -> define\n",
        "\n",
        "**assert** statements are used to check for conditions.\n",
        "\n",
        "**len(x.shape) == 2:**This line checks if the input x is a 2-dimensional tensor (a matrix) as expected.\n",
        "\n",
        "**len(y.shape) == 1**: This line checks if the input y is a 1-dimensional tensor (a vector) as expected.\n",
        "\n",
        "**x.shape[1] == y.shape[0]:** This ensures that the number of columns in the matrix (x) matches the number of elements in the vector (y). This is essential for element-wise addition."
      ],
      "metadata": {
        "id": "RBZ6cuT3VH7f"
      }
    },
    {
      "cell_type": "code",
      "execution_count": 56,
      "metadata": {
        "id": "kCAWmnp3oHDT"
      },
      "outputs": [],
      "source": [
        "import numpy as np\n",
        "x = np.random.random((64, 3, 32, 10))\n",
        "y = np.random.random((32, 10))\n",
        "z = np.maximum(x, y)"
      ]
    },
    {
      "cell_type": "markdown",
      "metadata": {
        "id": "BjvvZfi8oHDT"
      },
      "source": [
        "### Tensor product"
      ]
    },
    {
      "cell_type": "markdown",
      "source": [
        "In the context of linear algebra and deep learning, the tensor product is a way to combine two tensors (vectors, matrices, or higher-dimensional arrays) to create a new, larger tensor. It's a fundamental operation that underlies many computations in neural networks, especially in densely connected layers (fully connected layers)."
      ],
      "metadata": {
        "id": "Oa0n4P-JV9HO"
      }
    },
    {
      "cell_type": "markdown",
      "source": [],
      "metadata": {
        "id": "b5QkMHHZV1He"
      }
    },
    {
      "cell_type": "code",
      "execution_count": 57,
      "metadata": {
        "id": "46mWN5JKoHDT"
      },
      "outputs": [],
      "source": [
        "x = np.random.random((32,))\n",
        "y = np.random.random((32,))\n",
        "z = np.dot(x, y)"
      ]
    },
    {
      "cell_type": "code",
      "execution_count": 58,
      "metadata": {
        "id": "wwlvBpYjoHDT"
      },
      "outputs": [],
      "source": [
        "def naive_vector_dot(x, y):\n",
        "    assert len(x.shape) == 1\n",
        "    assert len(y.shape) == 1\n",
        "    assert x.shape[0] == y.shape[0]\n",
        "    z = 0.\n",
        "    for i in range(x.shape[0]):\n",
        "        z += x[i] * y[i]\n",
        "    return z"
      ]
    },
    {
      "cell_type": "code",
      "execution_count": 59,
      "metadata": {
        "id": "9zEMYjtqoHDT"
      },
      "outputs": [],
      "source": [
        "def naive_matrix_vector_dot(x, y):\n",
        "    assert len(x.shape) == 2\n",
        "    assert len(y.shape) == 1\n",
        "    assert x.shape[1] == y.shape[0]\n",
        "    z = np.zeros(x.shape[0])\n",
        "    for i in range(x.shape[0]):\n",
        "        for j in range(x.shape[1]):\n",
        "            z[i] += x[i, j] * y[j]\n",
        "    return z"
      ]
    },
    {
      "cell_type": "code",
      "execution_count": 60,
      "metadata": {
        "id": "2-0IjQlhoHDU"
      },
      "outputs": [],
      "source": [
        "def naive_matrix_vector_dot(x, y):\n",
        "    z = np.zeros(x.shape[0])\n",
        "    for i in range(x.shape[0]):\n",
        "        z[i] = naive_vector_dot(x[i, :], y)\n",
        "    return z"
      ]
    },
    {
      "cell_type": "code",
      "execution_count": 61,
      "metadata": {
        "id": "GW98XEd6oHDU"
      },
      "outputs": [],
      "source": [
        "def naive_matrix_dot(x, y):\n",
        "    assert len(x.shape) == 2\n",
        "    assert len(y.shape) == 2\n",
        "    assert x.shape[1] == y.shape[0]\n",
        "    z = np.zeros((x.shape[0], y.shape[1]))\n",
        "    for i in range(x.shape[0]):\n",
        "        for j in range(y.shape[1]):\n",
        "            row_x = x[i, :]\n",
        "            column_y = y[:, j]\n",
        "            z[i, j] = naive_vector_dot(row_x, column_y)\n",
        "    return z"
      ]
    },
    {
      "cell_type": "markdown",
      "metadata": {
        "id": "zmPh-n74oHDU"
      },
      "source": [
        "### Tensor reshaping"
      ]
    },
    {
      "cell_type": "code",
      "execution_count": 62,
      "metadata": {
        "id": "cQeWi9dEoHDU"
      },
      "outputs": [],
      "source": [
        "train_images = train_images.reshape((60000, 28 * 28))"
      ]
    },
    {
      "cell_type": "code",
      "execution_count": 63,
      "metadata": {
        "colab": {
          "base_uri": "https://localhost:8080/"
        },
        "id": "_Xevr0WEoHDU",
        "outputId": "b17f20ec-d16a-4990-9155-37f9c0040da8"
      },
      "outputs": [
        {
          "output_type": "execute_result",
          "data": {
            "text/plain": [
              "(3, 2)"
            ]
          },
          "metadata": {},
          "execution_count": 63
        }
      ],
      "source": [
        "x = np.array([[0., 1.],\n",
        "             [2., 3.],\n",
        "             [4., 5.]])\n",
        "x.shape"
      ]
    },
    {
      "cell_type": "code",
      "execution_count": 64,
      "metadata": {
        "colab": {
          "base_uri": "https://localhost:8080/"
        },
        "id": "CqFgqFchoHDV",
        "outputId": "07930769-8bc6-438d-cad9-844daeab1e82"
      },
      "outputs": [
        {
          "output_type": "execute_result",
          "data": {
            "text/plain": [
              "array([[0.],\n",
              "       [1.],\n",
              "       [2.],\n",
              "       [3.],\n",
              "       [4.],\n",
              "       [5.]])"
            ]
          },
          "metadata": {},
          "execution_count": 64
        }
      ],
      "source": [
        "x = x.reshape((6, 1))\n",
        "x"
      ]
    },
    {
      "cell_type": "code",
      "execution_count": 65,
      "metadata": {
        "colab": {
          "base_uri": "https://localhost:8080/"
        },
        "id": "_1nf2duaoHDV",
        "outputId": "4ea6c54d-97d9-4f0b-89f8-e7d38fe6f76a"
      },
      "outputs": [
        {
          "output_type": "execute_result",
          "data": {
            "text/plain": [
              "(20, 300)"
            ]
          },
          "metadata": {},
          "execution_count": 65
        }
      ],
      "source": [
        "x = np.zeros((300, 20))\n",
        "x = np.transpose(x)\n",
        "x.shape"
      ]
    },
    {
      "cell_type": "markdown",
      "metadata": {
        "id": "F_DZTzydoHDV"
      },
      "source": [
        "### Geometric interpretation of tensor operations"
      ]
    },
    {
      "cell_type": "markdown",
      "metadata": {
        "id": "IJnEatyToHDV"
      },
      "source": [
        "### A geometric interpretation of deep learning"
      ]
    },
    {
      "cell_type": "markdown",
      "metadata": {
        "id": "0Z5v0ehhoHDW"
      },
      "source": [
        "## The engine of neural networks: gradient-based optimization"
      ]
    },
    {
      "cell_type": "markdown",
      "metadata": {
        "id": "fRS1IZBooHDW"
      },
      "source": [
        "### What's a derivative?"
      ]
    },
    {
      "cell_type": "markdown",
      "metadata": {
        "id": "kzyvAxa2oHDW"
      },
      "source": [
        "### Derivative of a tensor operation: the gradient"
      ]
    },
    {
      "cell_type": "markdown",
      "metadata": {
        "id": "Xw_BQDcPoHDW"
      },
      "source": [
        "### Stochastic gradient descent"
      ]
    },
    {
      "cell_type": "markdown",
      "metadata": {
        "id": "eF8aOc1MoHDX"
      },
      "source": [
        "### Chaining derivatives: The Backpropagation algorithm"
      ]
    },
    {
      "cell_type": "markdown",
      "metadata": {
        "id": "kdk_THJkoHDX"
      },
      "source": [
        "#### The chain rule"
      ]
    },
    {
      "cell_type": "markdown",
      "metadata": {
        "id": "wxF_p7c_oHDX"
      },
      "source": [
        "#### Automatic differentiation with computation graphs"
      ]
    },
    {
      "cell_type": "markdown",
      "metadata": {
        "id": "VwDjimAZoHDX"
      },
      "source": [
        "#### The gradient tape in TensorFlow"
      ]
    },
    {
      "cell_type": "markdown",
      "source": [
        "In TensorFlow, the Gradient Tape is a powerful tool used for automatic differentiation. It essentially records the operations performed on tensors within a specific context, allowing you to later calculate the gradients of those operations with respect to any input variables."
      ],
      "metadata": {
        "id": "3Z6qQnwBWNiq"
      }
    },
    {
      "cell_type": "code",
      "execution_count": 66,
      "metadata": {
        "id": "yr4DeKFQoHDX"
      },
      "outputs": [],
      "source": [
        "import tensorflow as tf\n",
        "x = tf.Variable(0.)\n",
        "with tf.GradientTape() as tape:\n",
        "    y = 2 * x + 3\n",
        "grad_of_y_wrt_x = tape.gradient(y, x)"
      ]
    },
    {
      "cell_type": "code",
      "execution_count": 67,
      "metadata": {
        "id": "pS3VGDt7oHDX"
      },
      "outputs": [],
      "source": [
        "x = tf.Variable(tf.random.uniform((2, 2)))\n",
        "with tf.GradientTape() as tape:\n",
        "    y = 2 * x + 3\n",
        "grad_of_y_wrt_x = tape.gradient(y, x)"
      ]
    },
    {
      "cell_type": "code",
      "execution_count": 68,
      "metadata": {
        "id": "uoqT7wX1oHDY"
      },
      "outputs": [],
      "source": [
        "W = tf.Variable(tf.random.uniform((2, 2)))\n",
        "b = tf.Variable(tf.zeros((2,)))\n",
        "x = tf.random.uniform((2, 2))\n",
        "with tf.GradientTape() as tape:\n",
        "    y = tf.matmul(x, W) + b\n",
        "grad_of_y_wrt_W_and_b = tape.gradient(y, [W, b])"
      ]
    },
    {
      "cell_type": "markdown",
      "metadata": {
        "id": "y-O8DOFcoHDY"
      },
      "source": [
        "## Looking back at our first example"
      ]
    },
    {
      "cell_type": "code",
      "execution_count": 69,
      "metadata": {
        "id": "bEDwn_NtoHDY"
      },
      "outputs": [],
      "source": [
        "(train_images, train_labels), (test_images, test_labels) = mnist.load_data()\n",
        "train_images = train_images.reshape((60000, 28 * 28))\n",
        "train_images = train_images.astype(\"float32\") / 255\n",
        "test_images = test_images.reshape((10000, 28 * 28))\n",
        "test_images = test_images.astype(\"float32\") / 255"
      ]
    },
    {
      "cell_type": "code",
      "execution_count": 70,
      "metadata": {
        "id": "6gOEY7PToHDY"
      },
      "outputs": [],
      "source": [
        "model = keras.Sequential([\n",
        "    layers.Dense(512, activation=\"relu\"),\n",
        "    layers.Dense(10, activation=\"softmax\")\n",
        "])"
      ]
    },
    {
      "cell_type": "code",
      "execution_count": 71,
      "metadata": {
        "id": "-_NmnDbpoHDY"
      },
      "outputs": [],
      "source": [
        "model.compile(optimizer=\"rmsprop\",\n",
        "              loss=\"sparse_categorical_crossentropy\",\n",
        "              metrics=[\"accuracy\"])"
      ]
    },
    {
      "cell_type": "code",
      "execution_count": 72,
      "metadata": {
        "colab": {
          "base_uri": "https://localhost:8080/"
        },
        "id": "jxH3644goHDY",
        "outputId": "8dd5714b-f8ac-4aff-85f7-c567b151f7a0"
      },
      "outputs": [
        {
          "output_type": "stream",
          "name": "stdout",
          "text": [
            "Epoch 1/5\n",
            "\u001b[1m469/469\u001b[0m \u001b[32m━━━━━━━━━━━━━━━━━━━━\u001b[0m\u001b[37m\u001b[0m \u001b[1m4s\u001b[0m 8ms/step - accuracy: 0.8709 - loss: 0.4438\n",
            "Epoch 2/5\n",
            "\u001b[1m469/469\u001b[0m \u001b[32m━━━━━━━━━━━━━━━━━━━━\u001b[0m\u001b[37m\u001b[0m \u001b[1m6s\u001b[0m 10ms/step - accuracy: 0.9659 - loss: 0.1157\n",
            "Epoch 3/5\n",
            "\u001b[1m469/469\u001b[0m \u001b[32m━━━━━━━━━━━━━━━━━━━━\u001b[0m\u001b[37m\u001b[0m \u001b[1m4s\u001b[0m 8ms/step - accuracy: 0.9792 - loss: 0.0708\n",
            "Epoch 4/5\n",
            "\u001b[1m469/469\u001b[0m \u001b[32m━━━━━━━━━━━━━━━━━━━━\u001b[0m\u001b[37m\u001b[0m \u001b[1m4s\u001b[0m 8ms/step - accuracy: 0.9850 - loss: 0.0514\n",
            "Epoch 5/5\n",
            "\u001b[1m469/469\u001b[0m \u001b[32m━━━━━━━━━━━━━━━━━━━━\u001b[0m\u001b[37m\u001b[0m \u001b[1m7s\u001b[0m 13ms/step - accuracy: 0.9888 - loss: 0.0366\n"
          ]
        },
        {
          "output_type": "execute_result",
          "data": {
            "text/plain": [
              "<keras.src.callbacks.history.History at 0x78f2cbc086d0>"
            ]
          },
          "metadata": {},
          "execution_count": 72
        }
      ],
      "source": [
        "model.fit(train_images, train_labels, epochs=5, batch_size=128)"
      ]
    },
    {
      "cell_type": "markdown",
      "metadata": {
        "id": "mF6bioiFoHDZ"
      },
      "source": [
        "### Reimplementing our first example from scratch in TensorFlow"
      ]
    },
    {
      "cell_type": "markdown",
      "metadata": {
        "id": "t_h31f1VoHDZ"
      },
      "source": [
        "#### A simple Dense class"
      ]
    },
    {
      "cell_type": "code",
      "execution_count": 73,
      "metadata": {
        "id": "jDdb_sl5oHDZ"
      },
      "outputs": [],
      "source": [
        "import tensorflow as tf\n",
        "\n",
        "class NaiveDense:\n",
        "    def __init__(self, input_size, output_size, activation):\n",
        "        self.activation = activation\n",
        "\n",
        "        w_shape = (input_size, output_size)\n",
        "        w_initial_value = tf.random.uniform(w_shape, minval=0, maxval=1e-1)\n",
        "        self.W = tf.Variable(w_initial_value)\n",
        "\n",
        "        b_shape = (output_size,)\n",
        "        b_initial_value = tf.zeros(b_shape)\n",
        "        self.b = tf.Variable(b_initial_value)\n",
        "\n",
        "    def __call__(self, inputs):\n",
        "        return self.activation(tf.matmul(inputs, self.W) + self.b)\n",
        "\n",
        "    @property\n",
        "    def weights(self):\n",
        "        return [self.W, self.b]"
      ]
    },
    {
      "cell_type": "markdown",
      "metadata": {
        "id": "Z_gjlCpToHDZ"
      },
      "source": [
        "#### A simple Sequential class"
      ]
    },
    {
      "cell_type": "code",
      "execution_count": 74,
      "metadata": {
        "id": "bLRAeCsyoHDZ"
      },
      "outputs": [],
      "source": [
        "class NaiveSequential:\n",
        "    def __init__(self, layers):\n",
        "        self.layers = layers\n",
        "\n",
        "    def __call__(self, inputs):\n",
        "        x = inputs\n",
        "        for layer in self.layers:\n",
        "           x = layer(x)\n",
        "        return x\n",
        "\n",
        "    @property\n",
        "    def weights(self):\n",
        "       weights = []\n",
        "       for layer in self.layers:\n",
        "           weights += layer.weights\n",
        "       return weights"
      ]
    },
    {
      "cell_type": "code",
      "execution_count": 75,
      "metadata": {
        "id": "3sIlLTEkoHDZ"
      },
      "outputs": [],
      "source": [
        "model = NaiveSequential([\n",
        "    NaiveDense(input_size=28 * 28, output_size=512, activation=tf.nn.relu),\n",
        "    NaiveDense(input_size=512, output_size=10, activation=tf.nn.softmax)\n",
        "])\n",
        "assert len(model.weights) == 4"
      ]
    },
    {
      "cell_type": "markdown",
      "metadata": {
        "id": "YMfuxcW8oHDa"
      },
      "source": [
        "#### A batch generator"
      ]
    },
    {
      "cell_type": "code",
      "execution_count": 76,
      "metadata": {
        "id": "1IuhV2PNoHDa"
      },
      "outputs": [],
      "source": [
        "import math\n",
        "\n",
        "class BatchGenerator:\n",
        "    def __init__(self, images, labels, batch_size=128):\n",
        "        assert len(images) == len(labels)\n",
        "        self.index = 0\n",
        "        self.images = images\n",
        "        self.labels = labels\n",
        "        self.batch_size = batch_size\n",
        "        self.num_batches = math.ceil(len(images) / batch_size)\n",
        "\n",
        "    def next(self):\n",
        "        images = self.images[self.index : self.index + self.batch_size]\n",
        "        labels = self.labels[self.index : self.index + self.batch_size]\n",
        "        self.index += self.batch_size\n",
        "        return images, labels"
      ]
    },
    {
      "cell_type": "markdown",
      "metadata": {
        "id": "luh1UqEfoHDa"
      },
      "source": [
        "### Running one training step"
      ]
    },
    {
      "cell_type": "code",
      "execution_count": 77,
      "metadata": {
        "id": "wqQlwsbaoHDa"
      },
      "outputs": [],
      "source": [
        "def one_training_step(model, images_batch, labels_batch):\n",
        "    with tf.GradientTape() as tape:\n",
        "        predictions = model(images_batch)\n",
        "        per_sample_losses = tf.keras.losses.sparse_categorical_crossentropy(\n",
        "            labels_batch, predictions)\n",
        "        average_loss = tf.reduce_mean(per_sample_losses)\n",
        "    gradients = tape.gradient(average_loss, model.weights)\n",
        "    update_weights(gradients, model.weights)\n",
        "    return average_loss"
      ]
    },
    {
      "cell_type": "code",
      "execution_count": 78,
      "metadata": {
        "id": "fq7owE4GoHDa"
      },
      "outputs": [],
      "source": [
        "learning_rate = 1e-3\n",
        "\n",
        "def update_weights(gradients, weights):\n",
        "    for g, w in zip(gradients, weights):\n",
        "        w.assign_sub(g * learning_rate)"
      ]
    },
    {
      "cell_type": "code",
      "execution_count": 79,
      "metadata": {
        "id": "-77C-iYBoHDa"
      },
      "outputs": [],
      "source": [
        "from tensorflow.keras import optimizers\n",
        "\n",
        "optimizer = optimizers.SGD(learning_rate=1e-3)\n",
        "\n",
        "def update_weights(gradients, weights):\n",
        "    optimizer.apply_gradients(zip(gradients, weights))"
      ]
    },
    {
      "cell_type": "markdown",
      "metadata": {
        "id": "ErH-OHzjoHDa"
      },
      "source": [
        "### The full training loop"
      ]
    },
    {
      "cell_type": "code",
      "execution_count": 80,
      "metadata": {
        "id": "Hsjj14wfoHDb"
      },
      "outputs": [],
      "source": [
        "def fit(model, images, labels, epochs, batch_size=128):\n",
        "    for epoch_counter in range(epochs):\n",
        "        print(f\"Epoch {epoch_counter}\")\n",
        "        batch_generator = BatchGenerator(images, labels)\n",
        "        for batch_counter in range(batch_generator.num_batches):\n",
        "            images_batch, labels_batch = batch_generator.next()\n",
        "            loss = one_training_step(model, images_batch, labels_batch)\n",
        "            if batch_counter % 100 == 0:\n",
        "                print(f\"loss at batch {batch_counter}: {loss:.2f}\")"
      ]
    },
    {
      "cell_type": "code",
      "execution_count": 81,
      "metadata": {
        "colab": {
          "base_uri": "https://localhost:8080/"
        },
        "id": "WM_RDvDnoHDb",
        "outputId": "ef3dbd66-72b6-44ac-84f8-0e605883018b"
      },
      "outputs": [
        {
          "output_type": "stream",
          "name": "stdout",
          "text": [
            "Epoch 0\n",
            "loss at batch 0: 3.93\n",
            "loss at batch 100: 2.27\n",
            "loss at batch 200: 2.19\n",
            "loss at batch 300: 2.12\n",
            "loss at batch 400: 2.27\n",
            "Epoch 1\n",
            "loss at batch 0: 1.94\n",
            "loss at batch 100: 1.90\n",
            "loss at batch 200: 1.81\n",
            "loss at batch 300: 1.74\n",
            "loss at batch 400: 1.88\n",
            "Epoch 2\n",
            "loss at batch 0: 1.61\n",
            "loss at batch 100: 1.59\n",
            "loss at batch 200: 1.48\n",
            "loss at batch 300: 1.45\n",
            "loss at batch 400: 1.56\n",
            "Epoch 3\n",
            "loss at batch 0: 1.34\n",
            "loss at batch 100: 1.35\n",
            "loss at batch 200: 1.22\n",
            "loss at batch 300: 1.22\n",
            "loss at batch 400: 1.31\n",
            "Epoch 4\n",
            "loss at batch 0: 1.14\n",
            "loss at batch 100: 1.17\n",
            "loss at batch 200: 1.03\n",
            "loss at batch 300: 1.06\n",
            "loss at batch 400: 1.14\n",
            "Epoch 5\n",
            "loss at batch 0: 1.00\n",
            "loss at batch 100: 1.03\n",
            "loss at batch 200: 0.89\n",
            "loss at batch 300: 0.94\n",
            "loss at batch 400: 1.02\n",
            "Epoch 6\n",
            "loss at batch 0: 0.89\n",
            "loss at batch 100: 0.92\n",
            "loss at batch 200: 0.79\n",
            "loss at batch 300: 0.84\n",
            "loss at batch 400: 0.92\n",
            "Epoch 7\n",
            "loss at batch 0: 0.80\n",
            "loss at batch 100: 0.83\n",
            "loss at batch 200: 0.71\n",
            "loss at batch 300: 0.77\n",
            "loss at batch 400: 0.85\n",
            "Epoch 8\n",
            "loss at batch 0: 0.74\n",
            "loss at batch 100: 0.77\n",
            "loss at batch 200: 0.65\n",
            "loss at batch 300: 0.72\n",
            "loss at batch 400: 0.80\n",
            "Epoch 9\n",
            "loss at batch 0: 0.69\n",
            "loss at batch 100: 0.71\n",
            "loss at batch 200: 0.60\n",
            "loss at batch 300: 0.67\n",
            "loss at batch 400: 0.76\n"
          ]
        }
      ],
      "source": [
        "from tensorflow.keras.datasets import mnist\n",
        "(train_images, train_labels), (test_images, test_labels) = mnist.load_data()\n",
        "\n",
        "train_images = train_images.reshape((60000, 28 * 28))\n",
        "train_images = train_images.astype(\"float32\") / 255\n",
        "test_images = test_images.reshape((10000, 28 * 28))\n",
        "test_images = test_images.astype(\"float32\") / 255\n",
        "\n",
        "fit(model, train_images, train_labels, epochs=10, batch_size=128)"
      ]
    },
    {
      "cell_type": "markdown",
      "metadata": {
        "id": "d58Ws5OPoHDb"
      },
      "source": [
        "### Evaluating the model"
      ]
    },
    {
      "cell_type": "code",
      "execution_count": 82,
      "metadata": {
        "colab": {
          "base_uri": "https://localhost:8080/"
        },
        "id": "WWku4Z7_oHDc",
        "outputId": "e58d4f43-fbcf-49c4-f2ef-8d79c9aa5b49"
      },
      "outputs": [
        {
          "output_type": "stream",
          "name": "stdout",
          "text": [
            "accuracy: 0.82\n"
          ]
        }
      ],
      "source": [
        "predictions = model(test_images)\n",
        "predictions = predictions.numpy()\n",
        "predicted_labels = np.argmax(predictions, axis=1)\n",
        "matches = predicted_labels == test_labels\n",
        "print(f\"accuracy: {matches.mean():.2f}\")"
      ]
    },
    {
      "cell_type": "markdown",
      "metadata": {
        "id": "KzXLq9gPoHDc"
      },
      "source": [
        "## Summary"
      ]
    }
  ],
  "metadata": {
    "colab": {
      "name": "chapter02_mathematical-building-blocks.i",
      "provenance": []
    },
    "kernelspec": {
      "display_name": "Python 3",
      "language": "python",
      "name": "python3"
    },
    "language_info": {
      "codemirror_mode": {
        "name": "ipython",
        "version": 3
      },
      "file_extension": ".py",
      "mimetype": "text/x-python",
      "name": "python",
      "nbconvert_exporter": "python",
      "pygments_lexer": "ipython3",
      "version": "3.7.0"
    }
  },
  "nbformat": 4,
  "nbformat_minor": 0
}